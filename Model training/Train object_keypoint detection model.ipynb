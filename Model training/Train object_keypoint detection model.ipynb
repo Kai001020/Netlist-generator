{
 "cells": [
  {
   "cell_type": "code",
   "execution_count": null,
   "metadata": {
    "colab": {
     "base_uri": "https://localhost:8080/"
    },
    "executionInfo": {
     "elapsed": 22210,
     "status": "ok",
     "timestamp": 1735152001047,
     "user": {
      "displayName": "saoud aldowaish",
      "userId": "05741025839927245212"
     },
     "user_tz": 420
    },
    "id": "2jWEwEzDv69_",
    "outputId": "77cf4bd4-1800-44a3-fb38-a3e819e90c34"
   },
   "outputs": [],
   "source": [
    "from google.colab import drive\n",
    "drive.mount(\"/content/gdrive\", force_remount=True)"
   ]
  },
  {
   "cell_type": "code",
   "execution_count": null,
   "metadata": {
    "colab": {
     "base_uri": "https://localhost:8080/"
    },
    "executionInfo": {
     "elapsed": 6,
     "status": "ok",
     "timestamp": 1735152001048,
     "user": {
      "displayName": "saoud aldowaish",
      "userId": "05741025839927245212"
     },
     "user_tz": 420
    },
    "id": "PYGBOkmawB8m",
    "outputId": "8feff652-d718-4830-e32d-721ea3f68198"
   },
   "outputs": [],
   "source": [
    "# test connetion\n",
    "!ls '/content/gdrive/My Drive'"
   ]
  },
  {
   "cell_type": "code",
   "execution_count": null,
   "metadata": {
    "id": "Wz_iQaQHwDwD"
   },
   "outputs": [],
   "source": [
    "!pip install ultralytics"
   ]
  },
  {
   "cell_type": "code",
   "execution_count": null,
   "metadata": {
    "colab": {
     "base_uri": "https://localhost:8080/"
    },
    "executionInfo": {
     "elapsed": 294,
     "status": "ok",
     "timestamp": 1735152006841,
     "user": {
      "displayName": "saoud aldowaish",
      "userId": "05741025839927245212"
     },
     "user_tz": 420
    },
    "id": "ZInvm10jwE2b",
    "outputId": "fda85085-1ff8-4c93-e434-9a7565421afa"
   },
   "outputs": [],
   "source": [
    "# test connetion\n",
    "!ls '/content/gdrive/My Drive/Netlist generator/Model training'"
   ]
  },
  {
   "cell_type": "code",
   "execution_count": null,
   "metadata": {
    "colab": {
     "base_uri": "https://localhost:8080/"
    },
    "executionInfo": {
     "elapsed": 793001,
     "status": "ok",
     "timestamp": 1735152810560,
     "user": {
      "displayName": "saoud aldowaish",
      "userId": "05741025839927245212"
     },
     "user_tz": 420
    },
    "id": "Qr3Q_-S8wH-a",
    "outputId": "20856d3c-31c5-4663-e5db-805750a5445f"
   },
   "outputs": [],
   "source": [
    "# run training\n",
    "import os\n",
    "from ultralytics import YOLO\n",
    "model = YOLO('yolov8m-pose.pt')\n",
    "model.train(data='/content/gdrive/My Drive/Netlist generator/Model training/config.yaml', epochs=150, imgsz=640)"
   ]
  },
  {
   "cell_type": "code",
   "execution_count": null,
   "metadata": {
    "colab": {
     "base_uri": "https://localhost:8080/",
     "height": 36
    },
    "executionInfo": {
     "elapsed": 1284,
     "status": "ok",
     "timestamp": 1735152942464,
     "user": {
      "displayName": "saoud aldowaish",
      "userId": "05741025839927245212"
     },
     "user_tz": 420
    },
    "id": "yZVmZ0IswNxi",
    "outputId": "07dcfffd-5026-4e53-9b84-0c07c63d9ebf"
   },
   "outputs": [],
   "source": [
    "# save the trained model in \"/content/gdrive/My Drive/Netlist generator/Current trained model\" folder the folder is 'pose'\n",
    "import shutil\n",
    "# Define source and destination paths\n",
    "source_path = \"/content/runs\"\n",
    "destination_path = \"/content/gdrive/My Drive/Netlist generator/Current trained model\"\n",
    "# Copy the directory\n",
    "shutil.copytree(source_path, destination_path, dirs_exist_ok=True)"
   ]
  }
 ],
 "metadata": {
  "accelerator": "GPU",
  "colab": {
   "authorship_tag": "ABX9TyOxi42Xh3ZAtcR4g7n4pYe4",
   "gpuType": "T4",
   "provenance": []
  },
  "kernelspec": {
   "display_name": "Python 3",
   "name": "python3"
  },
  "language_info": {
   "name": "python"
  }
 },
 "nbformat": 4,
 "nbformat_minor": 0
}
