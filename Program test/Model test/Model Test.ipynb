{
 "cells": [
  {
   "cell_type": "code",
   "execution_count": null,
   "metadata": {
    "colab": {
     "base_uri": "https://localhost:8080/"
    },
    "executionInfo": {
     "elapsed": 16636,
     "status": "ok",
     "timestamp": 1735175352172,
     "user": {
      "displayName": "saoud aldowaish",
      "userId": "05741025839927245212"
     },
     "user_tz": 420
    },
    "id": "JP7iNmM4FL3Y",
    "outputId": "f6f54bac-56d2-48c8-9c95-715b80199e91"
   },
   "outputs": [],
   "source": [
    "from google.colab import drive\n",
    "drive.mount(\"/content/gdrive\", force_remount=True)"
   ]
  },
  {
   "cell_type": "code",
   "execution_count": null,
   "metadata": {
    "colab": {
     "base_uri": "https://localhost:8080/"
    },
    "executionInfo": {
     "elapsed": 270,
     "status": "ok",
     "timestamp": 1735175468665,
     "user": {
      "displayName": "saoud aldowaish",
      "userId": "05741025839927245212"
     },
     "user_tz": 420
    },
    "id": "Pw8MCBumFUGc",
    "outputId": "4e94a501-746e-41a9-c327-e3cc632770dd"
   },
   "outputs": [],
   "source": [
    "# test connetion\n",
    "!ls '/content/gdrive/My Drive'"
   ]
  },
  {
   "cell_type": "code",
   "execution_count": null,
   "metadata": {
    "id": "AK-qx23KFUPL"
   },
   "outputs": [],
   "source": [
    "!pip install ultralytics"
   ]
  },
  {
   "cell_type": "code",
   "execution_count": null,
   "metadata": {
    "colab": {
     "base_uri": "https://localhost:8080/"
    },
    "executionInfo": {
     "elapsed": 369,
     "status": "ok",
     "timestamp": 1735175475428,
     "user": {
      "displayName": "saoud aldowaish",
      "userId": "05741025839927245212"
     },
     "user_tz": 420
    },
    "id": "mi9y4JlQFYl9",
    "outputId": "a529bc88-ead4-4d01-bc5c-94161251e0b8"
   },
   "outputs": [],
   "source": [
    "# test connetion\n",
    "!ls '/content/gdrive/My Drive/Netlist generator'\n",
    "!ls '/content/gdrive/My Drive/Netlist generator/Testing'\n",
    "!ls '/content/gdrive/My Drive/Netlist generator/Training'\n",
    "!ls '/content/gdrive/My Drive/Netlist generator/Testing/Model testing'"
   ]
  },
  {
   "cell_type": "markdown",
   "metadata": {
    "id": "p2WIrE5J7byL"
   },
   "source": [
    "**Run model on all test images**"
   ]
  },
  {
   "cell_type": "code",
   "execution_count": null,
   "metadata": {
    "colab": {
     "base_uri": "https://localhost:8080/",
     "height": 1000
    },
    "executionInfo": {
     "elapsed": 45414,
     "status": "ok",
     "timestamp": 1735175520841,
     "user": {
      "displayName": "saoud aldowaish",
      "userId": "05741025839927245212"
     },
     "user_tz": 420
    },
    "id": "s6eJLe-T7nev",
    "outputId": "0c4d1411-d4cd-4b81-b7ba-b5c26b645e1f"
   },
   "outputs": [],
   "source": [
    "import os\n",
    "from ultralytics import YOLO\n",
    "import cv2\n",
    "from google.colab.patches import cv2_imshow\n",
    "\n",
    "# Paths for model and image folder\n",
    "model_path = '/content/gdrive/My Drive/Netlist generator/Current trained model/pose/train/weights/last.pt'\n",
    "image_folder = '/content/gdrive/My Drive/Netlist generator/Testing/Model testing/Test images/'\n",
    "\n",
    "# Load YOLO model\n",
    "model = YOLO(model_path)\n",
    "\n",
    "# Get a list of all image files in the folder\n",
    "image_files = [f for f in os.listdir(image_folder) if f.lower().endswith(('.jpg', '.jpeg', '.png'))]\n",
    "\n",
    "# List to store processed images\n",
    "processed_images = []\n",
    "\n",
    "# Loop through each image file\n",
    "for image_file in image_files:\n",
    "    image_path = os.path.join(image_folder, image_file)\n",
    "\n",
    "    # Load image\n",
    "    img = cv2.imread(image_path)\n",
    "\n",
    "    # Run inference\n",
    "    results = model(image_path)[0]\n",
    "\n",
    "    # Process each result\n",
    "    for result in results:\n",
    "        # Handle multiple detections properly\n",
    "        for cls, keypoints, bbox in zip(result.boxes.cls.cpu().numpy(),\n",
    "                                         result.keypoints.xy.cpu().numpy(),\n",
    "                                         result.boxes.xyxy.cpu().numpy()):\n",
    "            class_idx = int(cls)  # Convert single class index to int\n",
    "            object_name = results.names[class_idx]  # Get the class name using the class index\n",
    "\n",
    "            # Extract bounding box coordinates\n",
    "            x_min, y_min, x_max, y_max = map(int, bbox)\n",
    "\n",
    "            # Draw a rectangle around the detected object\n",
    "            cv2.rectangle(img, (x_min, y_min), (x_max, y_max), (255, 0, 0), 2)\n",
    "\n",
    "            # Display object name above the bounding box\n",
    "            cv2.putText(img, object_name, (x_min, y_min),\n",
    "                        cv2.FONT_HERSHEY_SIMPLEX, 0.5, (50, 50, 255), 1)\n",
    "\n",
    "            for keypoint in keypoints:\n",
    "              x, y = int(keypoint[0]), int(keypoint[1])  # Explicitly get x, y coordinates\n",
    "              cv2.circle(img, (x, y), radius=4, color=(0, 255, 0), thickness=-1)\n",
    "\n",
    "    # Append processed image to list\n",
    "    processed_images.append((image_file, img))\n",
    "\n",
    "# Display all processed images\n",
    "for file_name, processed_img in processed_images:\n",
    "    print(f\"Displaying image: {file_name}\")\n",
    "    cv2_imshow(processed_img)"
   ]
  },
  {
   "cell_type": "markdown",
   "metadata": {
    "id": "GnonUpI37hwY"
   },
   "source": [
    "**Run model on one test image**"
   ]
  },
  {
   "cell_type": "code",
   "execution_count": null,
   "metadata": {
    "colab": {
     "base_uri": "https://localhost:8080/",
     "height": 565
    },
    "executionInfo": {
     "elapsed": 1150,
     "status": "ok",
     "timestamp": 1735175521987,
     "user": {
      "displayName": "saoud aldowaish",
      "userId": "05741025839927245212"
     },
     "user_tz": 420
    },
    "id": "vMauqu9P7nx8",
    "outputId": "1d248164-1783-47f1-b44d-32067cfa991c"
   },
   "outputs": [],
   "source": [
    "from ultralytics import YOLO\n",
    "import cv2\n",
    "from google.colab.patches import cv2_imshow\n",
    "\n",
    "# Paths for model and image\n",
    "test_image_name = 'circuit_test_0002.jpg'\n",
    "model_path = '/content/gdrive/My Drive/Netlist generator/Current trained model/pose/train/weights/last.pt'\n",
    "image_folder = '/content/gdrive/My Drive/Netlist generator/Testing/Model testing/Test images/' + test_image_name\n",
    "\n",
    "# Load image\n",
    "img = cv2.imread(image_path)\n",
    "\n",
    "# Load YOLO model\n",
    "model = YOLO(model_path)\n",
    "\n",
    "# Run inference\n",
    "results = model(image_path)[0]\n",
    "\n",
    "# Process each result\n",
    "for result in results:\n",
    "    keypoints = result.keypoints.xy.cpu().numpy()[0]  # Move tensor to CPU before converting to NumPy\n",
    "    class_idx = int(result.boxes.cls.cpu().numpy())  # Convert tensor to numpy, then to int\n",
    "    object_name = results.names[class_idx]    # Get the class name using the class index\n",
    "\n",
    "    # Draw bounding box around the object\n",
    "    bbox = result.boxes.xyxy.cpu().numpy()[0]  # Move tensor to CPU before converting to NumPy\n",
    "    x_min, y_min, x_max, y_max = map(int, bbox)  # Extract bounding box coordinates\n",
    "\n",
    "    # Draw a rectangle (square) around the detected object\n",
    "    cv2.rectangle(img, (x_min, y_min), (x_max, y_max), (255, 0, 0), 2)\n",
    "\n",
    "    # Display object name above the bounding box\n",
    "    cv2.putText(img, object_name, (x_min , y_min ),\n",
    "                cv2.FONT_HERSHEY_SIMPLEX, 0.5, (50, 50, 255), 1)\n",
    "    \n",
    "    # Draw keypoints on image\n",
    "    for keypoint in keypoints:\n",
    "      x, y = int(keypoint[0]), int(keypoint[1])  # Explicitly get x, y coordinates\n",
    "      cv2.circle(img, (x, y), radius=4, color=(0, 255, 0), thickness=-1)\n",
    "\n",
    "# Display image with keypoints and bounding box\n",
    "cv2_imshow(img)"
   ]
  }
 ],
 "metadata": {
  "colab": {
   "authorship_tag": "ABX9TyOdVokwnR2POsxJ40CAzZO7",
   "provenance": []
  },
  "kernelspec": {
   "display_name": "Python 3",
   "name": "python3"
  },
  "language_info": {
   "name": "python"
  }
 },
 "nbformat": 4,
 "nbformat_minor": 0
}
